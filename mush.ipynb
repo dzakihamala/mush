{
 "cells": [
  {
   "cell_type": "markdown",
   "id": "85e486d8",
   "metadata": {},
   "source": [
    "## Import and Load"
   ]
  },
  {
   "cell_type": "code",
   "execution_count": null,
   "id": "b7f3933f",
   "metadata": {},
   "outputs": [],
   "source": [
    "#import and load\n",
    "#haloo\n",
    "import pandas as pd\n",
    "import seaborn as sns\n",
    "import matplotlib.pyplot as plt\n",
    "import numpy as np\n",
    "import warnings\n",
    "warnings.filterwarnings('ignore')\n",
    "from scipy.stats import skew\n",
    "\n",
    "df = pd.read_csv(\"train.csv\")\n",
    "dft = pd.read_csv(\"test.csv\")\n",
    "ntrain = df.shape[0]\n",
    "ntest = dft.shape[0]\n",
    "data = pd.concat((df, dft)).reset_index(drop=True)\n",
    "samp = pd.read_csv(\"sample(100).csv\")"
   ]
  },
  {
   "cell_type": "markdown",
   "id": "7726d9cf",
   "metadata": {},
   "source": [
    "## EDA"
   ]
  },
  {
   "cell_type": "code",
   "execution_count": null,
   "id": "f80ef364",
   "metadata": {},
   "outputs": [],
   "source": []
  },
  {
   "cell_type": "markdown",
   "id": "8e85dddd",
   "metadata": {},
   "source": [
    "## Data Cleaning"
   ]
  },
  {
   "cell_type": "code",
   "execution_count": null,
   "id": "ffd281fd",
   "metadata": {},
   "outputs": [],
   "source": []
  },
  {
   "cell_type": "markdown",
   "id": "1986da43",
   "metadata": {},
   "source": [
    "## Inpute and Encode"
   ]
  },
  {
   "cell_type": "code",
   "execution_count": null,
   "id": "e766e47d",
   "metadata": {},
   "outputs": [],
   "source": [
    "#Cek Data yang Kosong\n",
    "def missing(df) :\n",
    "    missing = df.isnull().sum()\n",
    "    percent = (df.isnull().sum()/len(df))*100\n",
    "    notmissing = len(df) - missing\n",
    "    missing_table = pd.DataFrame({\n",
    "        'MISSING':missing,\n",
    "        'Not Missing':notmissing,\n",
    "        '%':percent\n",
    "    })\n",
    "    missing_table = missing_table[missing_table['MISSING'] > 0]\n",
    "    missing_table['%'] = missing_table['%'].apply(lambda x: f\"{x:.2f}%\")\n",
    "    missing_table = missing_table.sort_values(by='%', ascending=False)\n",
    "    print(missing_table.round(2))\n",
    "    print(\"\\n\")\n",
    "    cols_with_missing = missing_table.index.tolist()\n",
    "    print(\"Kolom yang punya missing values:\", cols_with_missing)\n",
    "missing(df)\n"
   ]
  },
  {
   "cell_type": "code",
   "execution_count": null,
   "id": "2a2a6911",
   "metadata": {},
   "outputs": [],
   "source": [
    "gill_spacing_is_int_or_float = data[pd.to_numeric(data['gill-spacing'], errors='coerce').notna()].copy()\n",
    "data = data.drop(gill_spacing_is_int_or_float.index, axis=0)\n",
    "gill_spacing_invalid = ['class','']\n",
    "\n"
   ]
  },
  {
   "cell_type": "code",
   "execution_count": 30,
   "id": "0407fa69",
   "metadata": {},
   "outputs": [
    {
     "name": "stdout",
     "output_type": "stream",
     "text": [
      "{'t', 'f', nan, 'h', 'c', 'i', 'r', 'n', 'p', 'w', 'class', 'does c', 'b', 'does f', 'x', 'l', 'does None', 'cap-surface', 'k', 'has f', 'a', 'm', 'g', 's', 'y', 'e', 'd'}\n"
     ]
    }
   ],
   "source": [
    "print(set(data['gill-spacing']))"
   ]
  },
  {
   "cell_type": "code",
   "execution_count": null,
   "id": "dcd61d93",
   "metadata": {},
   "outputs": [],
   "source": [
    "#drop\n",
    "drop_cols = ['veil-type','spore-print-color','stem-root','veil-color','stem-surface']\n",
    "data = data.drop(drop_cols, axis=1)\n",
    "\n"
   ]
  },
  {
   "cell_type": "code",
   "execution_count": null,
   "id": "c2987996",
   "metadata": {},
   "outputs": [],
   "source": [
    "df"
   ]
  },
  {
   "cell_type": "markdown",
   "id": "81d98035",
   "metadata": {},
   "source": [
    "## EDA Postprocessing"
   ]
  },
  {
   "cell_type": "code",
   "execution_count": null,
   "id": "3e7772e0",
   "metadata": {},
   "outputs": [],
   "source": [
    "#cek distribusi\n",
    "def check_distribution(df, column, bins=30):\n",
    "    \"\"\"\n",
    "    Nampilin distribusi dari kolom numerik di dataframe.\n",
    "    \n",
    "    Parameters:\n",
    "    -----------\n",
    "    df : pd.DataFrame\n",
    "        DataFrame yang berisi kolom yang mau dicek\n",
    "    column : str\n",
    "        Nama kolom yang mau diliat persebarannya\n",
    "    bins : int, optional\n",
    "        Jumlah bins di histogram (default=30)\n",
    "    \"\"\"\n",
    "    print(f\" Distribusi untuk kolom: {column}\\n\")\n",
    "    print(df[column].describe())\n",
    "    print(\"\\nJumlah nilai null:\", df[column].isna().sum())\n",
    "\n",
    "    plt.figure(figsize=(12,5))\n",
    "\n",
    "    # Histogram\n",
    "    plt.subplot(1,2,1)\n",
    "    sns.histplot(df[column], bins=bins, kde=True)\n",
    "    plt.title(f'Histogram of {column}')\n",
    "\n",
    "    # Boxplot\n",
    "    plt.subplot(1,2,2)\n",
    "    sns.boxplot(x=df[column])\n",
    "    plt.title(f'Boxplot of {column}')\n",
    "\n",
    "    plt.tight_layout()\n",
    "    plt.show()"
   ]
  },
  {
   "cell_type": "code",
   "execution_count": null,
   "id": "551cab44",
   "metadata": {},
   "outputs": [],
   "source": [
    "#cek korelasi\n",
    "def check_correlation(df, col1, col2, method='pearson'):\n",
    "    \"\"\"\n",
    "    Ngecek korelasi antara dua kolom numerik + visualisasinya.\n",
    "\n",
    "    Parameters:\n",
    "    -----------\n",
    "    df : pd.DataFrame\n",
    "        DataFrame yang dipake\n",
    "    col1, col2 : str\n",
    "        Nama kolom yang mau dicek korelasinya\n",
    "    method : str, optional\n",
    "        Jenis korelasi ('pearson', 'spearman', atau 'kendall')\n",
    "    \"\"\"\n",
    "    # Pastikan kolom ada di df\n",
    "    if col1 not in df.columns or col2 not in df.columns:\n",
    "        raise KeyError(f\"Salah satu kolom ('{col1}' atau '{col2}') ga ada di DataFrame.\")\n",
    "\n",
    "    # Hitung korelasi\n",
    "    corr_value = df[[col1, col2]].corr(method=method).iloc[0, 1]\n",
    "    print(f\" Korelasi ({method}) antara '{col1}' dan '{col2}': {corr_value:.4f}\")\n",
    "\n",
    "    # Visualisasi scatter plot\n",
    "    plt.figure(figsize=(6,4))\n",
    "    sns.scatterplot(x=df[col1], y=df[col2], alpha=0.7)\n",
    "    plt.title(f'{col1} vs {col2}\\nCorrelation: {corr_value:.4f}')\n",
    "    plt.xlabel(col1)\n",
    "    plt.ylabel(col2)\n",
    "    plt.grid(True, linestyle='--', alpha=0.5)\n",
    "    plt.show()\n",
    "\n",
    "check_correlation(df, 'class','veil-type')"
   ]
  },
  {
   "cell_type": "code",
   "execution_count": null,
   "id": "0f6d49f2",
   "metadata": {},
   "outputs": [],
   "source": [
    "#cek persentase\n",
    "\n",
    "def cekpersentase(a,b):\n",
    "    sns.barplot(x=a, y=b, data=df, estimator='mean')\n",
    "    plt.show()\n",
    "\n",
    "cekpersentase('veil-type','class')"
   ]
  }
 ],
 "metadata": {
  "kernelspec": {
   "display_name": "Python 3",
   "language": "python",
   "name": "python3"
  },
  "language_info": {
   "codemirror_mode": {
    "name": "ipython",
    "version": 3
   },
   "file_extension": ".py",
   "mimetype": "text/x-python",
   "name": "python",
   "nbconvert_exporter": "python",
   "pygments_lexer": "ipython3",
   "version": "3.13.7"
  }
 },
 "nbformat": 4,
 "nbformat_minor": 5
}
